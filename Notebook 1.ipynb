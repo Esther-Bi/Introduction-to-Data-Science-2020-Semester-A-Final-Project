{
 "cells": [
  {
   "cell_type": "markdown",
   "metadata": {},
   "source": [
    "# Probability and Base:"
   ]
  },
  {
   "cell_type": "markdown",
   "metadata": {},
   "source": [
    "**Question 1-A**\n",
    "\n",
    "$\\frac{1}{125}$ not identical twins , \n",
    "$\\frac{1}{600}$ identical boys , \n",
    "$\\frac{1}{600}$ identical girls , \n",
    "$\\frac{1483}{1500}$ not twins\n",
    "\n",
    "$ \\text{P(identical boys/twins)}=\\frac{\\text{P(twins/identical boys)} \\cdot \\text{P(identical boys)}}{\\text{P(twins)}}=\\frac{1 \\cdot \\frac{1}{600} }{\\frac{17}{1500}} = \\frac{5}{34}$"
   ]
  },
  {
   "cell_type": "markdown",
   "metadata": {},
   "source": [
    "**Question 1-B**\n",
    "\n",
    "Bowl 1: $\\frac{10}{40}$ almonds , $\\frac{3}{4}$ chocolate \n",
    "\n",
    "Bowl 2: $\\frac{1}{2}$ almonds , $\\frac{1}{2}$ chocolate \n",
    "\n",
    "$\\text{P(bowl 1/chocolate)}=\\frac{\\text{P(chocolate/bowl 1)} \\cdot \\text{P(bowl 1)}}{\\text{P(chocolate)}}=\\frac{\\frac{3}{4} \\cdot \\frac{1}{2} }{\\frac{5}{8}} = \\frac{3}{5}$"
   ]
  },
  {
   "cell_type": "markdown",
   "metadata": {},
   "source": [
    "**Question 2**\n",
    "\n",
    "Before 1995:<br>\n",
    "30% Brown, 20% Yellow, 20% Red, 10% Green, 10% Orange, 10% Tan<br>\n",
    "After 1995:<bR>\n",
    "24% Blue , 20% Green, 16% Orange, 14% Yellow, 13% Red, 13% Brown<br>\n",
    "\n",
    "$\\text{P(1994/yellow)}=\\frac{\\text{P(yellow/1994)} \\cdot \\text{P(1994)}}{\\text{P(yellow)}}=\\frac{\\frac{20}{100} \\cdot \\frac{1}{2} }{\\frac{1}{10}+\\frac{7}{100}} = \\frac{10}{17}$"
   ]
  },
  {
   "cell_type": "markdown",
   "metadata": {},
   "source": [
    "**Question 3-A**\n",
    "\n",
    "sick - $\\frac{1}{10000}$ <br>\n",
    "FP - 1%<br>\n",
    "FN - 0%<br>\n",
    "\n",
    "sick & positive - $\\frac{1}{10000}$ <br>\n",
    "healthy & positive - $\\frac{9999}{10000} \\cdot 0.01 = 9.999\\cdot 10^{-3}$\n",
    "\n",
    "$\\text{P(sick/positive)}=\\frac{\\text{P(positive/sick)} \\cdot \\text{P(sick)}}{\\text{P(positive)}}=\\frac{1 \\cdot \\frac{1}{10000} }{\\frac{1}{10000}+9.999\\cdot 10^{-3}} = \\frac{100}{10099}$"
   ]
  },
  {
   "cell_type": "markdown",
   "metadata": {},
   "source": [
    "**Question 3-B**\n",
    "\n",
    "sick - $\\frac{1}{200}$ <br>\n",
    "FP - 1%<br>\n",
    "FN - 0%<br>\n",
    "\n",
    "sick & positive - $\\frac{1}{200}$ <br>\n",
    "healthy & positive - $\\frac{199}{200} \\cdot 0.01 = 9.95\\cdot 10^{-3}$\n",
    "\n",
    "\n",
    "$\\text{P(sick/positive form Thailand)}=\\frac{\\text{P(positive from Thailand/sick)} \\cdot \\text{P(positive from Thailand)}}{\\text{P(positive from Thailand)}}=\\frac{1 \\cdot \\frac{1}{200} }{\\frac{1}{200}+9.95\\cdot 10^{-3}} = \\frac{100}{299}$"
   ]
  },
  {
   "cell_type": "markdown",
   "metadata": {},
   "source": [
    "# Random Variables:"
   ]
  },
  {
   "cell_type": "markdown",
   "metadata": {},
   "source": [
    "**Question 1**\n",
    "\n",
    "sum is divisible by 3 (win 6 dollars) - $\\frac{12}{36}=\\frac{1}{3}$ <br>\n",
    "sum is not divisible by 3 (lose 3 dollars) - $\\frac{24}{36}=\\frac{2}{3}$ <br>\n",
    "\n",
    "$x= \\begin{cases} \n",
    "      6 & \\frac{1}{3}\\\\\n",
    "      -3 & \\frac{2}{3}\n",
    "   \\end{cases}$\n",
    "   \n",
    "$E(x)=\\sum P(x) \\cdot x = 6 \\cdot \\frac{1}{3} + (-3) \\cdot \\frac{2}{3} = 0$"
   ]
  },
  {
   "cell_type": "markdown",
   "metadata": {},
   "source": [
    "**Question 2**\n",
    "\n",
    "sum is more than 12 (win 5 dollars) - $\\frac{6}{25}$ <br>\n",
    "sum is exactly 12 (break even) - $\\frac{4}{25}$ <br>\n",
    "sum is less than 12 (lose 6 dollars) - $\\frac{15}{25}=\\frac{3}{5}$ <br>\n",
    "\n",
    "$x= \\begin{cases} \n",
    "      5 & \\frac{6}{25}\\\\\n",
    "      0 & \\frac{4}{25}\\\\\n",
    "      -6 & \\frac{3}{5}\n",
    "   \\end{cases}$\n",
    "   \n",
    "$E(x)=\\sum P(x) \\cdot x = 5 \\cdot \\frac{6}{25} + 0 \\cdot \\frac{4}{25} + (-6) \\cdot \\frac{3}{5} = -2.4$"
   ]
  },
  {
   "cell_type": "markdown",
   "metadata": {},
   "source": [
    "**Question 3**\n",
    "\n",
    "There are 200 employees.<br>\n",
    "40% are males , which means 80 employees.<br>\n",
    "60% are females , which means 120 employees.<br>\n",
    "\n",
    "Mean : <br>\n",
    "$\\mu$ = the percentage of men in the company $\\cdot$ the number of employees selected per month<br>\n",
    "$\\mu = 0.4\\cdot 8 = 3.2$\n",
    "\n",
    "Std : <br>\n",
    "$\\sigma = \\sqrt{\\frac{\\sum ({x-\\mu}^2}{N}}$<br><br>\n",
    "$x=0,1,2,...,8$ <br> since there are 9 options of men out of the 8 employees selected <br><br>\n",
    "$N = 9$ <br> since there are 9 options<br><br>\n",
    "$\\sigma = \\sqrt{\\frac{\\sum ({x-3.2})^2}{9}} = \\sqrt{\\frac{65.75999}{9}} = \\sqrt{7.30666} = 2.703$"
   ]
  },
  {
   "cell_type": "markdown",
   "metadata": {},
   "source": [
    "**Question 4**\n",
    "\n",
    "$\\mu = 26$\n",
    "\n",
    "$std=2$\n",
    "\n",
    "$P(26<price<30)=P(\\frac{26-\\mu}{std}<Z<\\frac{30-\\mu}{std}) = P(\\frac{26-26}{2}<Z<\\frac{30-26}{2})=P(0<Z<2)$\n",
    "\n",
    "according to the distribution table:\n",
    "\n",
    "$=0.97725-0.5=0.47725$"
   ]
  },
  {
   "cell_type": "markdown",
   "metadata": {},
   "source": [
    "**Question 5**\n",
    "\n",
    "according to the area under the graph:\n",
    "\n",
    "$P(x>3)= \\frac{0.4 \\cdot 2}{2} = 0.4$"
   ]
  },
  {
   "cell_type": "markdown",
   "metadata": {},
   "source": [
    "**Question 6**\n",
    "\n",
    "There are 500 employees.<br>\n",
    "60% have children, 40% do not have children.<br>\n",
    "Out of 4 randomly selected employees , the probability that exactly 3 of the 4 employees selected have children is\n",
    "\n",
    "$4 \\cdot 0.6^3 \\cdot 0.4 = 0.3456$\n",
    "\n",
    "because there are 4 different options of choosing 3 with children and one without. <br>\n",
    "($0.6 \\cdot 0.6 \\cdot 0.6 \\cdot 0.4$ <br>\n",
    "$0.6 \\cdot 0.6 \\cdot 0.4 \\cdot 0.6$ <br>\n",
    "$0.6 \\cdot 0.4 \\cdot 0.6 \\cdot 0.6$ <br>\n",
    "$0.4 \\cdot 0.6 \\cdot 0.6 \\cdot 0.6$)"
   ]
  },
  {
   "cell_type": "markdown",
   "metadata": {},
   "source": [
    "**Question 7**\n",
    "\n",
    "according to the graph:\n",
    "\n",
    "$E(x)=\\sum P(x) \\cdot x = (-10) \\cdot 0.1 + (-5) \\cdot 0.35 + 0 \\cdot 0.1 + 5 \\cdot 0.35 + 10 \\cdot 0.1= 0$"
   ]
  }
 ],
 "metadata": {
  "kernelspec": {
   "display_name": "Python 3",
   "language": "python",
   "name": "python3"
  },
  "language_info": {
   "codemirror_mode": {
    "name": "ipython",
    "version": 3
   },
   "file_extension": ".py",
   "mimetype": "text/x-python",
   "name": "python",
   "nbconvert_exporter": "python",
   "pygments_lexer": "ipython3",
   "version": "3.8.3"
  }
 },
 "nbformat": 4,
 "nbformat_minor": 4
}
